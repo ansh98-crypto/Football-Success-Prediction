{
 "cells": [
  {
   "cell_type": "code",
   "execution_count": 1,
   "metadata": {},
   "outputs": [],
   "source": [
    "# Imports\n",
    "import numpy as np\n",
    "import pandas as pd\n",
    "import seaborn as sns\n",
    "from jupyter_datatables import init_datatables_mode\n",
    "import matplotlib.pyplot as plt\n",
    "from sklearn.linear_model import LinearRegression, LogisticRegression\n",
    "from sklearn.metrics import r2_score\n",
    "from sklearn.metrics import confusion_matrix, f1_score\n",
    "from sklearn.model_selection import train_test_split\n",
    "from sklearn.ensemble import RandomForestClassifier, RandomForestRegressor\n",
    "from sklearn.metrics import accuracy_score, confusion_matrix, precision_score, recall_score, ConfusionMatrixDisplay\n",
    "from sklearn import metrics\n",
    "from sklearn.model_selection import GridSearchCV, StratifiedKFold"
   ]
  },
  {
   "cell_type": "code",
   "execution_count": 2,
   "metadata": {},
   "outputs": [
    {
     "data": {
      "text/plain": [
       "159541"
      ]
     },
     "execution_count": 2,
     "metadata": {},
     "output_type": "execute_result"
    }
   ],
   "source": [
    "# Data reading\n",
    "data = pd.read_csv(\"dataset.csv\")\n",
    "data.head()\n",
    "len(data)"
   ]
  },
  {
   "cell_type": "code",
   "execution_count": 3,
   "metadata": {},
   "outputs": [],
   "source": [
    "#International matches>0\n",
    "data_int = data[data[\"IntCaps\"]>0]\n",
    "#data_int.describe()"
   ]
  },
  {
   "cell_type": "code",
   "execution_count": 4,
   "metadata": {},
   "outputs": [],
   "source": [
    "# #Goal Opportunity Segregation:\n",
    "# f = data_int_yes = data_int[data_int[\"Goal Opportunity\"] == \"Yes\"]\n",
    "# d = data_int_maybe = data_int[data_int[\"Goal Opportunity\"] == \"maybe\"]\n",
    "# g = data_int_no = data_int[data_int[\"Goal Opportunity\"] == \"No\"]\n",
    "# f_, d_, g_= f[\"GPM\"][f[\"GPM\"]>0] , d[\"GPM\"][d[\"GPM\"]>0], g[\"GPM\"][g[\"GPM\"]>0]"
   ]
  },
  {
   "cell_type": "code",
   "execution_count": 5,
   "metadata": {},
   "outputs": [],
   "source": [
    "#\"Attacker\" ,f[\"IntGoals\"].describe() , \"Defender\", d[\"IntGoals\"].describe(), \"Goal Keeper\", g[\"IntGoals\"].describe()"
   ]
  },
  {
   "cell_type": "code",
   "execution_count": 6,
   "metadata": {},
   "outputs": [],
   "source": [
    "#f_.describe(), d_.describe(), g_.describe()"
   ]
  },
  {
   "cell_type": "code",
   "execution_count": 7,
   "metadata": {},
   "outputs": [],
   "source": [
    "# #removing No since count of No is only 5\n",
    "# data_int_y_m = data_int #(data_int[\"Goal Opportunity\"]!=\"No\")&\n",
    "# ax = sns.boxplot(x = data_int_y_m[\"Goal Opportunity - 2\"],y = data_int_y_m[\"IntCaps\"], showfliers=False)\n",
    "# plt.title(\"GPM By Goal Opportunity\")\n",
    "# plt.show()\n"
   ]
  },
  {
   "cell_type": "code",
   "execution_count": 8,
   "metadata": {},
   "outputs": [],
   "source": [
    "# classifier_ = []\n",
    "# for i in range(0, len(data_int)):#8\n",
    "#     if data_int.iloc[i][8] <7:\n",
    "#         classifier_.append(0)\n",
    "#         continue\n",
    "#     classifier_.append(1)\n",
    "\n",
    "# data_int[\"classifier\"] = classifier_\n",
    "\n",
    "\n",
    "classifier_ = []\n",
    "for i in range(0, len(data)):#8\n",
    "    if data.iloc[i][8] <1:#<1\n",
    "        classifier_.append(0)\n",
    "        continue\n",
    "    classifier_.append(1)\n",
    "\n",
    "data[\"classifier\"] = classifier_"
   ]
  },
  {
   "cell_type": "code",
   "execution_count": 9,
   "metadata": {},
   "outputs": [],
   "source": [
    "# model = LogisticRegression(class_weight='Balanced') #15:76 - Main sheet\n",
    "# data_ = data#data[(data[\"GPM\"]>-1) & (data[\"Goal Opportunity\"]==\"Yes\")]\n",
    "# x = data_.iloc[:,15:35]\n",
    "# y = data_[\"classifier\"]\n",
    "# y = np.array(y)[:,None]\n",
    "# x = np.array(x)\n",
    "\n",
    "# x_train,x_test,y_train,y_test=train_test_split(x,y,test_size=0.2,random_state=0)\n",
    "\n",
    "# #View the shapes of splitted data.\n",
    "\n",
    "# #shapes of splitted data\n",
    "# # print(\"X_train:\",x_train.shape)\n",
    "# # print(\"X_test:\",x_test.shape)\n",
    "# # print(\"Y_train:\",y_train.shape)\n",
    "# # print(\"Y_test:\",y_test.shape)\n",
    "\n",
    "# # model.fit(x_train, y_train)\n",
    "# # y_pred = model.predict(x_test)\n",
    "# #Accuracy=r2_score(y_test,y_pred)*100\n",
    "# #print(\"Accuracy of the model is %.2f\" %Accuracy)\n",
    "\n",
    "\n",
    "# lr = LogisticRegression()\n",
    "\n",
    "# #Setting the range for class weights\n",
    "# weights = np.linspace(0.0,0.99,200)\n",
    "\n",
    "# #Creating a dictionary grid for grid search\n",
    "# param_grid = {'class_weight': [{0:x, 1:1.0-x} for x in weights]}\n",
    "\n",
    "# #Fitting grid search to the train data with 5 folds\n",
    "# gridsearch = GridSearchCV(estimator= lr, \n",
    "#                         param_grid= param_grid,\n",
    "#                         cv=StratifiedKFold(), \n",
    "#                         n_jobs=-1, \n",
    "#                         scoring='f1', \n",
    "#                         verbose=2).fit(x_train, y_train)\n",
    "\n",
    "# #Ploting the score for different values of weight\n",
    "# sns.set_style('whitegrid')\n",
    "\n",
    "# plt.figure(figsize=(12,8))\n",
    "# weigh_data = pd.DataFrame({ 'score': gridsearch.cv_results_['mean_test_score'], 'weight': (1- weights)})\n",
    "# sns.lineplot(x = weigh_data['weight'], y = weigh_data['score'])\n",
    "# plt.xlabel('Weight for class 1')\n",
    "# plt.ylabel('F1 score')\n",
    "# plt.xticks([round(i/10,1) for i in range(0,11,1)])\n",
    "# plt.title('Scoring for different class weights', fontsize=24)\n",
    "#weigh_data.to_excel(\"weights.xlsx\")\n"
   ]
  },
  {
   "cell_type": "code",
   "execution_count": 10,
   "metadata": {},
   "outputs": [
    {
     "name": "stderr",
     "output_type": "stream",
     "text": [
      "2023-08-21 15:46:58,048 [28892] WARNING  py.warnings:109: [JupyterRequire] c:\\Users\\ansht\\AppData\\Local\\Programs\\Python\\Python39\\lib\\site-packages\\sklearn\\utils\\validation.py:1184: DataConversionWarning: A column-vector y was passed when a 1d array was expected. Please change the shape of y to (n_samples, ), for example using ravel().\n",
      "  y = column_or_1d(y, warn=True)\n",
      "\n"
     ]
    },
    {
     "name": "stdout",
     "output_type": "stream",
     "text": [
      "Accuracy: 0.9546204792846249\n",
      "The f1 score for the model is: 0.7112470087742622\n",
      "The precision score for the model model is: 0.5815217391304348\n",
      "The recall score for the model model is: 0.9154688569472964\n"
     ]
    },
    {
     "data": {
      "image/png": "[encoded data removed]",
      "text/plain": [
       "<Figure size 432x288 with 2 Axes>"
      ]
     },
     "metadata": {
      "needs_background": "light"
     },
     "output_type": "display_data"
    }
   ],
   "source": [
    "from sklearn.preprocessing import StandardScaler\n",
    "data_ = data#data[(data[\"GPM\"]>-1) & (data[\"Goal Opportunity\"]==\"Yes\")]\n",
    "x_ = data_.iloc[:,15:]\n",
    "y = data_[\"classifier\"]\n",
    "y = np.array(y)[:,None]\n",
    "x = np.array(x_)\n",
    "\n",
    "#x_train,x_test,y_train,y_test=train_test_split(x,y,test_size=0.2,random_state=0)\n",
    "X = x\n",
    "# performing standardization\n",
    "sc = StandardScaler()\n",
    "X_scaled = sc.fit_transform(X)\n",
    "X_scaled.shape\n",
    "# #Applying Principal Component Analysis (PCA)\n",
    "\n",
    "from sklearn.decomposition import PCA\n",
    "components = 15\n",
    "pca = PCA(n_components = components)\n",
    "# # perform PCA on the scaled data\n",
    "pca.fit(X_scaled)\n",
    "pca\n",
    "# # print the explained variances\n",
    "# print(\"Variances (Percentage):\")\n",
    "# print(pca.explained_variance_ratio_ * 100)\n",
    "# print()\n",
    "# print(\"Cumulative Variances (Percentage):\")\n",
    "# print(pca.explained_variance_ratio_.cumsum() * 100)\n",
    "# print()\n",
    "# pca.components_\n",
    "# # plot a scree plot\n",
    "# components = len(pca.explained_variance_ratio_) if components is None else components\n",
    "# plt.plot(range(1,components+1), \n",
    "#          np.cumsum(pca.explained_variance_ratio_ * 100))\n",
    "# plt.xlabel(\"Number of components\")\n",
    "# plt.ylabel(\"Explained variance (%)\")\n",
    "# plt.show()\n",
    "# from sklearn.decomposition import PCA\n",
    "# pca = PCA(n_components = 0.5)\n",
    "# pca.fit(X_scaled)\n",
    "# print(\"Cumulative Variances (Percentage):\")\n",
    "# print(np.cumsum(pca.explained_variance_ratio_ * 100))\n",
    "# components = len(pca.explained_variance_ratio_)\n",
    "# print(f'Number of components: {components}')\n",
    "\n",
    "# # Make the scree plot\n",
    "# plt.plot(range(1, components + 1), np.cumsum(pca.explained_variance_ratio_ * 100))\n",
    "# plt.xlabel(\"Number of components\")\n",
    "# plt.ylabel(\"Explained variance (%)\")\n",
    "# pca_components = abs(pca.components_)\n",
    "# print(pca_components)\n",
    "\n",
    "# print('Top 4 most important features in each component')\n",
    "# print('===============================================')\n",
    "# for row in range(pca_components.shape[0]):\n",
    "#     # get the indices of the top 4 values in each row\n",
    "#     temp = np.argpartition(-(pca_components[row]), 4)\n",
    "#     # sort the indices in descending order\n",
    "#     indices = temp[np.argsort((-pca_components[row])[temp])][:4]\n",
    "#     # print the top 4 feature names\n",
    "#     print(f'Component {row}: {x_.columns[indices].to_list()}')\n",
    "\n",
    "# #Transforming all the 30 Columns to the 6 Principal Components\n",
    "# X_pca = pca.transform(X_scaled)\n",
    "# print(X_pca.shape)\n",
    "# print(X_pca)\n",
    "\n",
    "from sklearn.pipeline import Pipeline\n",
    "from sklearn.preprocessing import StandardScaler\n",
    "from sklearn.decomposition import PCA\n",
    "from sklearn.linear_model import LogisticRegression\n",
    "_sc = StandardScaler()\n",
    "_pca = PCA(n_components = 13)\n",
    "model_ = LogisticRegression()\n",
    "# log_regress_model = Pipeline([\n",
    "#     ('std_scaler', _sc),\n",
    "#     ('pca', _pca),\n",
    "#     ('regressor', _model)\n",
    "# ])\n",
    "X = _sc.fit_transform(X)\n",
    "X = _pca.fit_transform(X)\n",
    "# perform a split\n",
    "X_train, X_test, y_train, y_test = train_test_split(X, y, \n",
    "                test_size=0.3,\n",
    "                shuffle=True)\n",
    "\n",
    "# train the model using the PCA components\n",
    "model_.fit(X_train,y_train)\n",
    "model_.score(X_test,y_test)\n",
    "y_pred_test = model_.predict_proba(X_test)[:, 1]\n",
    "y_pred_class_test = [1 if prob > 0.094060344 else 0 for prob in y_pred_test]\n",
    "y_predicted = np.array(y_pred_class_test).reshape(47863, 1)#31909\n",
    "arr = np.append(y_predicted, np.array(y_test),1)\n",
    "df = pd.DataFrame(arr, columns = [\"Predicted\", \"Actual\"])\n",
    "#df.to_excel(\"Test_PRED.xlsx\")\n",
    "cm = confusion_matrix(y_test, y_predicted)\n",
    "accuracy = accuracy_score(y_test, y_predicted)\n",
    "print(\"Accuracy:\", accuracy)\n",
    "print('The f1 score for the model is:',f1_score(y_test, y_predicted))\n",
    "print('The precision score for the model model is:', precision_score(y_test, y_predicted))\n",
    "print('The recall score for the model model is:', recall_score(y_test, y_predicted))\n",
    "\n",
    "# print(f\"TRUE Positives : {tp} ; False Positives : {fp}\")\n",
    "cm_display = metrics.ConfusionMatrixDisplay(confusion_matrix = cm, display_labels = [0, 1])\n",
    "\n",
    "cm_display.plot()\n",
    "plt.show() "
   ]
  },
  {
   "cell_type": "code",
   "execution_count": 11,
   "metadata": {},
   "outputs": [
    {
     "name": "stdout",
     "output_type": "stream",
     "text": [
      "Variances (Percentage):\n",
      "[24.65432252 14.51198765  6.71592677  3.62099733  3.33042101  2.71310152\n",
      "  2.38429761  2.3733099   1.82236894  1.68917678  1.63926101  1.59896017\n",
      "  1.54314973  1.46237077  1.41986313  1.3630543   1.32334355  1.26147383\n",
      "  1.23678444  1.17873262  1.1288439   1.04775585  1.02823127  1.00875297\n",
      "  0.92625135  0.88255852  0.83677631  0.79051921  0.77656253  0.75150025\n",
      "  0.70662431  0.66148661  0.6389918   0.59030892  0.57833846  0.570558\n",
      "  0.52232318  0.50314034  0.48210878  0.46053681  0.45648792  0.44426801\n",
      "  0.43930258  0.41314346  0.3977117   0.38425891  0.37174963  0.34845866\n",
      "  0.34506813  0.3309362   0.32258511  0.32021869  0.31713155  0.30821115\n",
      "  0.29655363  0.28855568  0.27663106  0.26843902  0.26177611  0.25503198\n",
      "  0.20953999  0.20886787]\n",
      "\n",
      "Cumulative Variances (Percentage):\n",
      "[ 24.65432252  39.16631017  45.88223695  49.50323427  52.83365528\n",
      "  55.5467568   57.93105441  60.30436431  62.12673325  63.81591003\n",
      "  65.45517103  67.05413121  68.59728094  70.05965171  71.47951484\n",
      "  72.84256914  74.1659127   75.42738653  76.66417097  77.84290359\n",
      "  78.97174749  80.01950333  81.0477346   82.05648758  82.98273892\n",
      "  83.86529745  84.70207376  85.49259297  86.2691555   87.02065575\n",
      "  87.72728006  88.38876666  89.02775847  89.61806739  90.19640585\n",
      "  90.76696385  91.28928703  91.79242737  92.27453615  92.73507295\n",
      "  93.19156087  93.63582888  94.07513146  94.48827492  94.88598663\n",
      "  95.27024554  95.64199516  95.99045383  96.33552195  96.66645816\n",
      "  96.98904327  97.30926196  97.62639351  97.93460466  98.23115828\n",
      "  98.51971396  98.79634502  99.06478405  99.32656016  99.58159214\n",
      "  99.79113213 100.        ]\n",
      "\n",
      "Cumulative Variances (Percentage):\n",
      "[24.65432252 39.16631017 45.88223695 49.50323427 52.83365528]\n",
      "Number of components: 5\n",
      "[[1.44168477e-01 1.37132228e-01 1.31442684e-01 6.81640494e-02\n",
      "  1.48761348e-01 1.36505514e-01 1.27017950e-01 1.50186418e-01\n",
      "  1.34665844e-01 1.33778329e-01 1.18887942e-01 1.73327444e-01\n",
      "  1.88871693e-01 1.86216231e-01 1.62960277e-01 1.87150662e-01\n",
      "  1.34227262e-01 1.49414255e-01 2.01947671e-01 1.59567909e-01\n",
      "  1.25926919e-01 2.04944258e-01 1.75669881e-01 1.21737171e-01\n",
      "  1.99281569e-01 1.13502069e-01 1.56741855e-01 6.80227228e-02\n",
      "  1.71786669e-01 1.16769654e-01 1.62010277e-01 2.37082714e-02\n",
      "  1.09430859e-01 1.54617321e-01 4.66763464e-02 2.00915781e-01\n",
      "  7.07704993e-02 1.52108832e-01 1.76111297e-01 6.01709771e-02\n",
      "  6.25474294e-02 1.52147503e-01 1.95082383e-02 5.42898069e-02\n",
      "  5.51042238e-02 8.50830681e-02 2.83800941e-02 1.78433633e-01\n",
      "  9.56303081e-02 1.39897726e-01 6.60729922e-02 1.03328061e-01\n",
      "  5.42521527e-02 1.31100878e-01 1.46886574e-02 2.83160089e-02\n",
      "  1.76288764e-02 1.38623136e-02 3.19380954e-02 2.11592380e-03\n",
      "  4.32740997e-02 4.68832414e-02]\n",
      " [2.27142771e-01 2.32561127e-01 2.34056665e-01 1.52106888e-01\n",
      "  2.27565133e-01 2.31002994e-01 2.36775942e-01 2.30724103e-01\n",
      "  2.23498546e-01 2.21390418e-01 2.32115328e-01 4.87495852e-02\n",
      "  3.98485341e-03 2.67813586e-02 3.26365994e-02 4.54107521e-02\n",
      "  1.36688412e-01 9.63913111e-03 1.81887019e-02 7.37095813e-02\n",
      "  5.34033750e-03 2.08049874e-02 7.76312117e-02 5.86864387e-03\n",
      "  1.13840565e-03 1.09391133e-01 1.41168596e-01 2.24498968e-01\n",
      "  1.20823255e-01 2.08609221e-01 9.14394036e-02 8.95375284e-02\n",
      "  1.30702220e-01 5.10120409e-02 7.32958998e-02 8.11250962e-03\n",
      "  1.70190698e-01 1.55019583e-01 8.12324030e-02 5.73584971e-02\n",
      "  1.68986474e-02 1.67272455e-01 1.67110171e-01 1.50080905e-02\n",
      "  7.17659786e-02 4.17776904e-02 2.47329670e-02 4.89954313e-02\n",
      "  1.76913451e-01 1.64879874e-01 6.62436428e-02 1.22171674e-01\n",
      "  4.64173090e-02 9.33148927e-02 1.92451625e-02 3.22719741e-02\n",
      "  4.16676381e-02 2.22361347e-02 5.72201936e-02 1.57016400e-02\n",
      "  4.73111744e-02 5.12865845e-02]\n",
      " [9.16738904e-02 9.42708649e-02 9.34168997e-02 6.33035779e-02\n",
      "  9.29042162e-02 9.53979435e-02 9.57067952e-02 9.37502837e-02\n",
      "  9.09812720e-02 8.94499680e-02 9.39689585e-02 1.69559364e-01\n",
      "  1.36355700e-01 2.22359779e-01 2.02015325e-01 1.49118325e-01\n",
      "  1.94160621e-01 1.79126901e-01 9.24406543e-02 8.22472523e-02\n",
      "  3.37695127e-01 2.30772680e-02 7.52373305e-02 3.26085904e-01\n",
      "  1.85086418e-01 1.26696604e-01 6.31306826e-02 1.39281209e-01\n",
      "  6.64982846e-02 1.01583022e-01 1.41200769e-01 1.04445753e-01\n",
      "  3.49160458e-02 2.25435835e-01 8.49696926e-02 1.41877179e-01\n",
      "  2.59842178e-01 5.99347091e-02 2.98265734e-02 1.84881649e-01\n",
      "  1.80649100e-01 7.08572907e-02 1.64535041e-01 2.50062079e-02\n",
      "  2.24169375e-02 1.57910510e-01 1.11588972e-02 3.59669643e-02\n",
      "  1.60650252e-01 4.05252482e-02 8.93922396e-02 2.70052654e-02\n",
      "  1.40552727e-02 1.70143116e-02 1.16056022e-02 9.81269837e-03\n",
      "  3.70857488e-02 1.35027989e-02 3.95127985e-02 2.44657549e-02\n",
      "  1.92646981e-03 4.78827206e-03]\n",
      " [2.67120792e-02 3.00607424e-02 3.36626691e-02 2.86184889e-04\n",
      "  1.57038175e-02 3.65797871e-02 4.06679445e-02 1.53021134e-02\n",
      "  3.04458629e-03 2.43689296e-03 4.86637536e-02 3.25106745e-02\n",
      "  5.91957215e-02 4.57069467e-02 4.48267899e-02 9.66136608e-02\n",
      "  8.72494069e-02 5.77173991e-02 1.03225669e-02 2.73806118e-02\n",
      "  1.73089364e-01 7.58213646e-02 1.28247248e-01 1.67632711e-01\n",
      "  2.80922870e-02 1.77855304e-01 1.38550145e-01 4.74481962e-02\n",
      "  5.51772097e-02 9.86446524e-02 3.29886937e-02 2.87986909e-01\n",
      "  1.52823751e-01 1.23332139e-01 1.41984291e-03 1.48968474e-02\n",
      "  1.88156773e-01 1.37565484e-01 5.67481566e-02 3.50281292e-01\n",
      "  3.60491172e-01 5.74245558e-02 4.57786627e-02 1.32246361e-01\n",
      "  9.78844913e-03 3.76712322e-01 1.29799952e-01 1.91191035e-02\n",
      "  2.48777135e-02 3.05018161e-02 1.38764211e-01 1.55396901e-01\n",
      "  2.03031234e-02 7.98128480e-02 1.83220950e-01 1.61176451e-03\n",
      "  2.42311522e-02 1.53380514e-01 4.62449671e-02 9.46688755e-02\n",
      "  1.71360552e-01 2.22925060e-01]\n",
      " [8.87729270e-03 1.09645291e-02 1.11927395e-02 2.48356031e-03\n",
      "  1.34016645e-02 1.44057172e-02 1.14481812e-02 1.14685512e-02\n",
      "  1.10883706e-02 9.61106716e-03 1.34336206e-02 9.79976216e-02\n",
      "  1.50220181e-01 7.34744700e-02 2.54495972e-01 5.33323372e-02\n",
      "  1.01353121e-02 2.31362380e-01 4.18281967e-02 1.33674659e-01\n",
      "  6.11164271e-02 2.20120230e-02 1.30562627e-01 1.47947655e-01\n",
      "  1.56570149e-02 4.13324694e-02 9.69901065e-02 3.88191446e-02\n",
      "  1.18764528e-01 2.51700450e-02 3.35719515e-02 1.55423095e-02\n",
      "  7.91233640e-03 4.35123112e-02 2.53982278e-02 1.57547329e-01\n",
      "  2.27561059e-02 9.99407675e-02 9.48194312e-02 1.39714604e-01\n",
      "  1.36614290e-01 6.15683110e-03 1.50368108e-01 5.30422487e-01\n",
      "  3.66015080e-02 1.32990224e-01 5.48245560e-01 3.03809097e-02\n",
      "  1.58671304e-01 1.26603998e-02 3.94716052e-02 1.11915309e-03\n",
      "  6.98098721e-03 9.20117900e-02 3.14761594e-02 5.61115250e-03\n",
      "  1.04916908e-02 2.99766373e-02 9.30301692e-03 7.20427421e-03\n",
      "  2.92951621e-02 2.03501060e-03]]\n",
      "Top 4 most important features in each component\n",
      "===============================================\n",
      "Component 0: ['Passing_Technical', 'LongShots_Technical', 'OffTheBall_Technical', 'Technique_Technical']\n",
      "Component 1: ['OneOnOnes_Technical', 'Communication_Behavioral', 'CommandOfArea_Technical', 'Throwing_Technical']\n",
      "Component 2: ['Marking_Technical', 'Tackling_Technical', 'Positioning_Behavioral', 'Flair_Behavioral']\n",
      "Component 3: ['Pace_Technical', 'Agility_Technical', 'Acceleration_Technical', 'Decisions_Behavioral']\n",
      "Component 4: ['RightFoot_Technical', 'LeftFoot_Technical', 'Finishing_Technical', 'Heading_Technical']\n",
      "(159541, 5)\n",
      "[[ 0.05817842 -0.5318451   2.1294666   3.29966846 -0.97288816]\n",
      " [-8.48533095  0.36387659  0.18702833  1.3793158  -0.25279306]\n",
      " [-4.02734837 -3.27606354  1.58469928  3.37232268 -1.43142048]\n",
      " ...\n",
      " [ 1.45524995 -2.88244438 -1.12302345  1.92143129 -0.16469467]\n",
      " [ 4.76990425 -0.09115793  0.3040913   1.15780374 -0.30821639]\n",
      " [-7.53224795 11.88762106 -1.06194819  0.85824318 -0.43552187]]\n"
     ]
    },
    {
     "name": "stderr",
     "output_type": "stream",
     "text": [
      "2023-08-21 15:47:02,488 [28892] WARNING  py.warnings:109: [JupyterRequire] c:\\Users\\ansht\\AppData\\Local\\Programs\\Python\\Python39\\lib\\site-packages\\sklearn\\utils\\validation.py:1184: DataConversionWarning: A column-vector y was passed when a 1d array was expected. Please change the shape of y to (n_samples, ), for example using ravel().\n",
      "  y = column_or_1d(y, warn=True)\n",
      "\n"
     ]
    },
    {
     "name": "stdout",
     "output_type": "stream",
     "text": [
      "Accuracy: 0.8236633725424649\n",
      "The f1 score for the model is: 0.32176149148183864\n",
      "The precision score for the model model is: 0.2103604076914994\n",
      "The recall score for the model model is: 0.6839767680218654\n"
     ]
    },
    {
     "data": {
      "image/png": "[encoded data removed]",
      "text/plain": [
       "<Figure size 432x288 with 1 Axes>"
      ]
     },
     "metadata": {
      "needs_background": "light"
     },
     "output_type": "display_data"
    },
    {
     "data": {
      "image/png": "[encoded data removed]",
      "text/plain": [
       "<Figure size 432x288 with 2 Axes>"
      ]
     },
     "metadata": {
      "needs_background": "light"
     },
     "output_type": "display_data"
    }
   ],
   "source": [
    "from sklearn.preprocessing import StandardScaler\n",
    "data_ = data#data[(data[\"GPM\"]>-1) & (data[\"Goal Opportunity\"]==\"Yes\")]\n",
    "x_ = data_.iloc[:,15:-1]\n",
    "y = data_[\"classifier\"]\n",
    "y = np.array(y)[:,None]\n",
    "x = np.array(x_)\n",
    "\n",
    "#x_train,x_test,y_train,y_test=train_test_split(x,y,test_size=0.2,random_state=0)\n",
    "X = x\n",
    "# performing standardization\n",
    "sc = StandardScaler()\n",
    "X_scaled = sc.fit_transform(X)\n",
    "\n",
    "#Applying Principal Component Analysis (PCA)\n",
    "\n",
    "from sklearn.decomposition import PCA\n",
    "components = None\n",
    "pca = PCA(n_components = components)\n",
    "# perform PCA on the scaled data\n",
    "pca.fit(X_scaled)\n",
    "\n",
    "# print the explained variances\n",
    "print(\"Variances (Percentage):\")\n",
    "print(pca.explained_variance_ratio_ * 100)\n",
    "print()\n",
    "print(\"Cumulative Variances (Percentage):\")\n",
    "print(pca.explained_variance_ratio_.cumsum() * 100)\n",
    "print()\n",
    "\n",
    "# plot a scree plot\n",
    "components = len(pca.explained_variance_ratio_) if components is None else components\n",
    "plt.plot(range(1,components+1), \n",
    "         np.cumsum(pca.explained_variance_ratio_ * 100))\n",
    "plt.xlabel(\"Number of components\")\n",
    "plt.ylabel(\"Explained variance (%)\")\n",
    "from sklearn.decomposition import PCA\n",
    "pca = PCA(n_components = 0.5)\n",
    "pca.fit(X_scaled)\n",
    "print(\"Cumulative Variances (Percentage):\")\n",
    "print(np.cumsum(pca.explained_variance_ratio_ * 100))\n",
    "components = len(pca.explained_variance_ratio_)\n",
    "print(f'Number of components: {components}')\n",
    "\n",
    "# Make the scree plot\n",
    "plt.plot(range(1, components + 1), np.cumsum(pca.explained_variance_ratio_ * 100))\n",
    "plt.xlabel(\"Number of components\")\n",
    "plt.ylabel(\"Explained variance (%)\")\n",
    "pca_components = abs(pca.components_)\n",
    "print(pca_components)\n",
    "\n",
    "print('Top 4 most important features in each component')\n",
    "print('===============================================')\n",
    "for row in range(pca_components.shape[0]):\n",
    "    # get the indices of the top 4 values in each row\n",
    "    temp = np.argpartition(-(pca_components[row]), 4)\n",
    "    # sort the indices in descending order\n",
    "    indices = temp[np.argsort((-pca_components[row])[temp])][:4]\n",
    "    # print the top 4 feature names\n",
    "    print(f'Component {row}: {x_.columns[indices].to_list()}')\n",
    "\n",
    "#Transforming all the 30 Columns to the 6 Principal Components\n",
    "X_pca = pca.transform(X_scaled)\n",
    "print(X_pca.shape)\n",
    "print(X_pca)\n",
    "\n",
    "\n",
    "\n",
    "\n",
    "#Creating a Machine Learning Pipeline\n",
    "\n",
    "from sklearn.pipeline import Pipeline\n",
    "from sklearn.preprocessing import StandardScaler\n",
    "from sklearn.decomposition import PCA\n",
    "from sklearn.linear_model import LogisticRegression\n",
    "_sc = StandardScaler()\n",
    "_pca = PCA(n_components = components)\n",
    "_model = LogisticRegression()\n",
    "log_regress_model = Pipeline([\n",
    "    ('std_scaler', _sc),\n",
    "    ('pca', _pca),\n",
    "    ('regressor', _model)\n",
    "])\n",
    "\n",
    "# perform a split\n",
    "X_train, X_test, y_train, y_test = train_test_split(X, y, \n",
    "                test_size=0.3,\n",
    "                shuffle=True)\n",
    "\n",
    "# train the model using the PCA components\n",
    "log_regress_model.fit(X_train,y_train)\n",
    "log_regress_model.score(X_test,y_test)\n",
    "y_pred_test = log_regress_model.predict_proba(X_test)[:, 1]\n",
    "y_pred_class_test = [1 if prob > 0.094060344 else 0 for prob in y_pred_test]\n",
    "y_predicted = np.array(y_pred_class_test).reshape(47863, 1)#31909\n",
    "arr = np.append(y_predicted, np.array(y_test),1)\n",
    "df = pd.DataFrame(arr, columns = [\"Predicted\", \"Actual\"])\n",
    "#df.to_excel(\"Test_PRED.xlsx\")\n",
    "cm = confusion_matrix(y_test, y_predicted)\n",
    "accuracy = accuracy_score(y_test, y_predicted)\n",
    "print(\"Accuracy:\", accuracy)\n",
    "print('The f1 score for the model is:',f1_score(y_test, y_predicted))\n",
    "print('The precision score for the model model is:', precision_score(y_test, y_predicted))\n",
    "print('The recall score for the model model is:', recall_score(y_test, y_predicted))\n",
    "\n",
    "# print(f\"TRUE Positives : {tp} ; False Positives : {fp}\")\n",
    "cm_display = metrics.ConfusionMatrixDisplay(confusion_matrix = cm, display_labels = [0, 1])\n",
    "\n",
    "cm_display.plot()\n",
    "plt.show() \n"
   ]
  },
  {
   "cell_type": "code",
   "execution_count": 12,
   "metadata": {},
   "outputs": [
    {
     "data": {
      "text/html": [
       "<div>\n",
       "<style scoped>\n",
       "    .dataframe tbody tr th:only-of-type {\n",
       "        vertical-align: middle;\n",
       "    }\n",
       "\n",
       "    .dataframe tbody tr th {\n",
       "        vertical-align: top;\n",
       "    }\n",
       "\n",
       "    .dataframe thead th {\n",
       "        text-align: right;\n",
       "    }\n",
       "</style>\n",
       "<table border=\"1\" class=\"dataframe\">\n",
       "  <thead>\n",
       "    <tr style=\"text-align: right;\">\n",
       "      <th></th>\n",
       "      <th>AerialAbility_Technical</th>\n",
       "      <th>CommandOfArea_Technical</th>\n",
       "      <th>Communication_Behavioral</th>\n",
       "      <th>Eccentricity_Behavioral</th>\n",
       "      <th>Handling_Technical</th>\n",
       "      <th>Kicking_Technical</th>\n",
       "      <th>OneOnOnes_Technical</th>\n",
       "      <th>Reflexes_Technical</th>\n",
       "      <th>RushingOut_Technical</th>\n",
       "      <th>TendencyToPunch_Technical</th>\n",
       "      <th>...</th>\n",
       "      <th>InjuryProness_Technical</th>\n",
       "      <th>Versatility_Behavioral</th>\n",
       "      <th>Adaptability_Behavioral</th>\n",
       "      <th>Ambition_Behavioral</th>\n",
       "      <th>Loyalty_Behavioral</th>\n",
       "      <th>Pressure_Behavioral</th>\n",
       "      <th>Professional_Behavioral</th>\n",
       "      <th>Sportsmanship_Behavioral</th>\n",
       "      <th>Temperament_Behavioral</th>\n",
       "      <th>Controversy_Behavioral</th>\n",
       "    </tr>\n",
       "  </thead>\n",
       "  <tbody>\n",
       "    <tr>\n",
       "      <th>0</th>\n",
       "      <td>1</td>\n",
       "      <td>1</td>\n",
       "      <td>2</td>\n",
       "      <td>2</td>\n",
       "      <td>3</td>\n",
       "      <td>3</td>\n",
       "      <td>1</td>\n",
       "      <td>4</td>\n",
       "      <td>1</td>\n",
       "      <td>2</td>\n",
       "      <td>...</td>\n",
       "      <td>7</td>\n",
       "      <td>4</td>\n",
       "      <td>20</td>\n",
       "      <td>6</td>\n",
       "      <td>3</td>\n",
       "      <td>9</td>\n",
       "      <td>3</td>\n",
       "      <td>10</td>\n",
       "      <td>14</td>\n",
       "      <td>11</td>\n",
       "    </tr>\n",
       "    <tr>\n",
       "      <th>1</th>\n",
       "      <td>12</td>\n",
       "      <td>3</td>\n",
       "      <td>5</td>\n",
       "      <td>1</td>\n",
       "      <td>12</td>\n",
       "      <td>6</td>\n",
       "      <td>2</td>\n",
       "      <td>1</td>\n",
       "      <td>6</td>\n",
       "      <td>6</td>\n",
       "      <td>...</td>\n",
       "      <td>6</td>\n",
       "      <td>6</td>\n",
       "      <td>14</td>\n",
       "      <td>10</td>\n",
       "      <td>7</td>\n",
       "      <td>11</td>\n",
       "      <td>11</td>\n",
       "      <td>12</td>\n",
       "      <td>10</td>\n",
       "      <td>6</td>\n",
       "    </tr>\n",
       "    <tr>\n",
       "      <th>2</th>\n",
       "      <td>1</td>\n",
       "      <td>2</td>\n",
       "      <td>4</td>\n",
       "      <td>2</td>\n",
       "      <td>1</td>\n",
       "      <td>1</td>\n",
       "      <td>1</td>\n",
       "      <td>3</td>\n",
       "      <td>3</td>\n",
       "      <td>2</td>\n",
       "      <td>...</td>\n",
       "      <td>5</td>\n",
       "      <td>5</td>\n",
       "      <td>9</td>\n",
       "      <td>11</td>\n",
       "      <td>14</td>\n",
       "      <td>7</td>\n",
       "      <td>11</td>\n",
       "      <td>13</td>\n",
       "      <td>10</td>\n",
       "      <td>8</td>\n",
       "    </tr>\n",
       "    <tr>\n",
       "      <th>3</th>\n",
       "      <td>1</td>\n",
       "      <td>3</td>\n",
       "      <td>1</td>\n",
       "      <td>3</td>\n",
       "      <td>2</td>\n",
       "      <td>2</td>\n",
       "      <td>1</td>\n",
       "      <td>2</td>\n",
       "      <td>3</td>\n",
       "      <td>3</td>\n",
       "      <td>...</td>\n",
       "      <td>5</td>\n",
       "      <td>6</td>\n",
       "      <td>16</td>\n",
       "      <td>13</td>\n",
       "      <td>11</td>\n",
       "      <td>9</td>\n",
       "      <td>10</td>\n",
       "      <td>13</td>\n",
       "      <td>13</td>\n",
       "      <td>7</td>\n",
       "    </tr>\n",
       "    <tr>\n",
       "      <th>4</th>\n",
       "      <td>3</td>\n",
       "      <td>3</td>\n",
       "      <td>2</td>\n",
       "      <td>3</td>\n",
       "      <td>1</td>\n",
       "      <td>1</td>\n",
       "      <td>3</td>\n",
       "      <td>3</td>\n",
       "      <td>2</td>\n",
       "      <td>1</td>\n",
       "      <td>...</td>\n",
       "      <td>5</td>\n",
       "      <td>5</td>\n",
       "      <td>13</td>\n",
       "      <td>11</td>\n",
       "      <td>9</td>\n",
       "      <td>10</td>\n",
       "      <td>12</td>\n",
       "      <td>10</td>\n",
       "      <td>19</td>\n",
       "      <td>8</td>\n",
       "    </tr>\n",
       "    <tr>\n",
       "      <th>...</th>\n",
       "      <td>...</td>\n",
       "      <td>...</td>\n",
       "      <td>...</td>\n",
       "      <td>...</td>\n",
       "      <td>...</td>\n",
       "      <td>...</td>\n",
       "      <td>...</td>\n",
       "      <td>...</td>\n",
       "      <td>...</td>\n",
       "      <td>...</td>\n",
       "      <td>...</td>\n",
       "      <td>...</td>\n",
       "      <td>...</td>\n",
       "      <td>...</td>\n",
       "      <td>...</td>\n",
       "      <td>...</td>\n",
       "      <td>...</td>\n",
       "      <td>...</td>\n",
       "      <td>...</td>\n",
       "      <td>...</td>\n",
       "      <td>...</td>\n",
       "    </tr>\n",
       "    <tr>\n",
       "      <th>159536</th>\n",
       "      <td>1</td>\n",
       "      <td>1</td>\n",
       "      <td>1</td>\n",
       "      <td>1</td>\n",
       "      <td>1</td>\n",
       "      <td>1</td>\n",
       "      <td>1</td>\n",
       "      <td>1</td>\n",
       "      <td>1</td>\n",
       "      <td>1</td>\n",
       "      <td>...</td>\n",
       "      <td>5</td>\n",
       "      <td>8</td>\n",
       "      <td>11</td>\n",
       "      <td>2</td>\n",
       "      <td>15</td>\n",
       "      <td>8</td>\n",
       "      <td>11</td>\n",
       "      <td>11</td>\n",
       "      <td>10</td>\n",
       "      <td>7</td>\n",
       "    </tr>\n",
       "    <tr>\n",
       "      <th>159537</th>\n",
       "      <td>1</td>\n",
       "      <td>1</td>\n",
       "      <td>1</td>\n",
       "      <td>1</td>\n",
       "      <td>1</td>\n",
       "      <td>1</td>\n",
       "      <td>1</td>\n",
       "      <td>1</td>\n",
       "      <td>1</td>\n",
       "      <td>1</td>\n",
       "      <td>...</td>\n",
       "      <td>3</td>\n",
       "      <td>11</td>\n",
       "      <td>19</td>\n",
       "      <td>12</td>\n",
       "      <td>11</td>\n",
       "      <td>10</td>\n",
       "      <td>10</td>\n",
       "      <td>12</td>\n",
       "      <td>19</td>\n",
       "      <td>3</td>\n",
       "    </tr>\n",
       "    <tr>\n",
       "      <th>159538</th>\n",
       "      <td>1</td>\n",
       "      <td>1</td>\n",
       "      <td>1</td>\n",
       "      <td>1</td>\n",
       "      <td>1</td>\n",
       "      <td>1</td>\n",
       "      <td>1</td>\n",
       "      <td>1</td>\n",
       "      <td>1</td>\n",
       "      <td>1</td>\n",
       "      <td>...</td>\n",
       "      <td>8</td>\n",
       "      <td>8</td>\n",
       "      <td>11</td>\n",
       "      <td>13</td>\n",
       "      <td>11</td>\n",
       "      <td>12</td>\n",
       "      <td>11</td>\n",
       "      <td>12</td>\n",
       "      <td>13</td>\n",
       "      <td>3</td>\n",
       "    </tr>\n",
       "    <tr>\n",
       "      <th>159539</th>\n",
       "      <td>1</td>\n",
       "      <td>1</td>\n",
       "      <td>1</td>\n",
       "      <td>1</td>\n",
       "      <td>1</td>\n",
       "      <td>1</td>\n",
       "      <td>1</td>\n",
       "      <td>1</td>\n",
       "      <td>1</td>\n",
       "      <td>1</td>\n",
       "      <td>...</td>\n",
       "      <td>9</td>\n",
       "      <td>13</td>\n",
       "      <td>13</td>\n",
       "      <td>9</td>\n",
       "      <td>11</td>\n",
       "      <td>11</td>\n",
       "      <td>14</td>\n",
       "      <td>15</td>\n",
       "      <td>14</td>\n",
       "      <td>2</td>\n",
       "    </tr>\n",
       "    <tr>\n",
       "      <th>159540</th>\n",
       "      <td>11</td>\n",
       "      <td>11</td>\n",
       "      <td>13</td>\n",
       "      <td>14</td>\n",
       "      <td>13</td>\n",
       "      <td>14</td>\n",
       "      <td>11</td>\n",
       "      <td>12</td>\n",
       "      <td>12</td>\n",
       "      <td>14</td>\n",
       "      <td>...</td>\n",
       "      <td>5</td>\n",
       "      <td>10</td>\n",
       "      <td>18</td>\n",
       "      <td>10</td>\n",
       "      <td>4</td>\n",
       "      <td>9</td>\n",
       "      <td>11</td>\n",
       "      <td>9</td>\n",
       "      <td>5</td>\n",
       "      <td>8</td>\n",
       "    </tr>\n",
       "  </tbody>\n",
       "</table>\n",
       "<p>159541 rows × 62 columns</p>\n",
       "</div>"
      ],
      "text/plain": [
       "        AerialAbility_Technical  CommandOfArea_Technical  \\\n",
       "0                             1                        1   \n",
       "1                            12                        3   \n",
       "2                             1                        2   \n",
       "3                             1                        3   \n",
       "4                             3                        3   \n",
       "...                         ...                      ...   \n",
       "159536                        1                        1   \n",
       "159537                        1                        1   \n",
       "159538                        1                        1   \n",
       "159539                        1                        1   \n",
       "159540                       11                       11   \n",
       "\n",
       "        Communication_Behavioral  Eccentricity_Behavioral  Handling_Technical  \\\n",
       "0                              2                        2                   3   \n",
       "1                              5                        1                  12   \n",
       "2                              4                        2                   1   \n",
       "3                              1                        3                   2   \n",
       "4                              2                        3                   1   \n",
       "...                          ...                      ...                 ...   \n",
       "159536                         1                        1                   1   \n",
       "159537                         1                        1                   1   \n",
       "159538                         1                        1                   1   \n",
       "159539                         1                        1                   1   \n",
       "159540                        13                       14                  13   \n",
       "\n",
       "        Kicking_Technical  OneOnOnes_Technical  Reflexes_Technical  \\\n",
       "0                       3                    1                   4   \n",
       "1                       6                    2                   1   \n",
       "2                       1                    1                   3   \n",
       "3                       2                    1                   2   \n",
       "4                       1                    3                   3   \n",
       "...                   ...                  ...                 ...   \n",
       "159536                  1                    1                   1   \n",
       "159537                  1                    1                   1   \n",
       "159538                  1                    1                   1   \n",
       "159539                  1                    1                   1   \n",
       "159540                 14                   11                  12   \n",
       "\n",
       "        RushingOut_Technical  TendencyToPunch_Technical  ...  \\\n",
       "0                          1                          2  ...   \n",
       "1                          6                          6  ...   \n",
       "2                          3                          2  ...   \n",
       "3                          3                          3  ...   \n",
       "4                          2                          1  ...   \n",
       "...                      ...                        ...  ...   \n",
       "159536                     1                          1  ...   \n",
       "159537                     1                          1  ...   \n",
       "159538                     1                          1  ...   \n",
       "159539                     1                          1  ...   \n",
       "159540                    12                         14  ...   \n",
       "\n",
       "        InjuryProness_Technical  Versatility_Behavioral  \\\n",
       "0                             7                       4   \n",
       "1                             6                       6   \n",
       "2                             5                       5   \n",
       "3                             5                       6   \n",
       "4                             5                       5   \n",
       "...                         ...                     ...   \n",
       "159536                        5                       8   \n",
       "159537                        3                      11   \n",
       "159538                        8                       8   \n",
       "159539                        9                      13   \n",
       "159540                        5                      10   \n",
       "\n",
       "        Adaptability_Behavioral  Ambition_Behavioral  Loyalty_Behavioral  \\\n",
       "0                            20                    6                   3   \n",
       "1                            14                   10                   7   \n",
       "2                             9                   11                  14   \n",
       "3                            16                   13                  11   \n",
       "4                            13                   11                   9   \n",
       "...                         ...                  ...                 ...   \n",
       "159536                       11                    2                  15   \n",
       "159537                       19                   12                  11   \n",
       "159538                       11                   13                  11   \n",
       "159539                       13                    9                  11   \n",
       "159540                       18                   10                   4   \n",
       "\n",
       "        Pressure_Behavioral  Professional_Behavioral  \\\n",
       "0                         9                        3   \n",
       "1                        11                       11   \n",
       "2                         7                       11   \n",
       "3                         9                       10   \n",
       "4                        10                       12   \n",
       "...                     ...                      ...   \n",
       "159536                    8                       11   \n",
       "159537                   10                       10   \n",
       "159538                   12                       11   \n",
       "159539                   11                       14   \n",
       "159540                    9                       11   \n",
       "\n",
       "        Sportsmanship_Behavioral  Temperament_Behavioral  \\\n",
       "0                             10                      14   \n",
       "1                             12                      10   \n",
       "2                             13                      10   \n",
       "3                             13                      13   \n",
       "4                             10                      19   \n",
       "...                          ...                     ...   \n",
       "159536                        11                      10   \n",
       "159537                        12                      19   \n",
       "159538                        12                      13   \n",
       "159539                        15                      14   \n",
       "159540                         9                       5   \n",
       "\n",
       "        Controversy_Behavioral  \n",
       "0                           11  \n",
       "1                            6  \n",
       "2                            8  \n",
       "3                            7  \n",
       "4                            8  \n",
       "...                        ...  \n",
       "159536                       7  \n",
       "159537                       3  \n",
       "159538                       3  \n",
       "159539                       2  \n",
       "159540                       8  \n",
       "\n",
       "[159541 rows x 62 columns]"
      ]
     },
     "execution_count": 12,
     "metadata": {},
     "output_type": "execute_result"
    }
   ],
   "source": [
    "data_ = data#data[(data[\"GPM\"]>-1) & (data[\"Goal Opportunity\"]==\"Yes\")]\n",
    "x = data_.iloc[:,15:-1]\n",
    "x"
   ]
  },
  {
   "cell_type": "code",
   "execution_count": 96,
   "metadata": {},
   "outputs": [
    {
     "data": {
      "text/plain": [
       "0    149905\n",
       "1     50000\n",
       "Name: classifier, dtype: int64"
      ]
     },
     "execution_count": 96,
     "metadata": {},
     "output_type": "execute_result"
    }
   ],
   "source": [
    "data_ = data#data[(data[\"GPM\"]>-1) & (data[\"Goal Opportunity\"]==\"Yes\")]\n",
    "#x = data_.iloc[:,15:-1]\n",
    "#y = data_[\"classifier\"]\n",
    "#y.value_counts()\n",
    "from sklearn.utils import resample\n",
    "pred_0 = data_[data_[\"classifier\"]==0]\n",
    "pred_1 = data_[data_[\"classifier\"]==1]\n",
    "pred_1_upsample = resample(pred_1, replace=True, n_samples=50000, random_state=0)\n",
    "\n",
    "data_f = pd.concat([pred_0, pred_1_upsample])\n",
    "data_f['classifier'].value_counts()"
   ]
  },
  {
   "cell_type": "code",
   "execution_count": 94,
   "metadata": {},
   "outputs": [
    {
     "data": {
      "text/plain": [
       "0    149905\n",
       "1     52466\n",
       "Name: classifier, dtype: int64"
      ]
     },
     "execution_count": 94,
     "metadata": {},
     "output_type": "execute_result"
    }
   ],
   "source": [
    "from imblearn.over_sampling import SMOTE as alg#SMOTE\n",
    "df_train = data\n",
    "x = df_train.iloc[:,15:-1]\n",
    "y = df_train[\"classifier\"]\n",
    "sm = alg(sampling_strategy = 0.35,random_state=0)\n",
    "oversampled_X, oversampled_Y = sm.fit_resample(x,y)\n",
    "data_f = pd.concat([pd.DataFrame(oversampled_X), pd.DataFrame(oversampled_Y)], axis=1)\n",
    "data_f['classifier'].value_counts()"
   ]
  },
  {
   "cell_type": "code",
   "execution_count": 97,
   "metadata": {},
   "outputs": [
    {
     "name": "stderr",
     "output_type": "stream",
     "text": [
      "2023-08-23 00:08:47,409 [28892] WARNING  py.warnings:109: [JupyterRequire] c:\\Users\\ansht\\AppData\\Local\\Programs\\Python\\Python39\\lib\\site-packages\\sklearn\\base.py:1151: DataConversionWarning: A column-vector y was passed when a 1d array was expected. Please change the shape of y to (n_samples,), for example using ravel().\n",
      "  return fit_method(estimator, *args, **kwargs)\n",
      "\n"
     ]
    },
    {
     "name": "stdout",
     "output_type": "stream",
     "text": [
      "Accuracy: 0.9860268125125058\n",
      "The f1 score for the model is: 0.9721631676853575\n",
      "The precision score for the model model is: 0.9628874119892084\n",
      "The recall score for the model model is: 0.9816193734487154\n"
     ]
    },
    {
     "data": {
      "image/png": "[encoded data removed]",
      "text/plain": [
       "<Figure size 432x288 with 2 Axes>"
      ]
     },
     "metadata": {
      "needs_background": "light"
     },
     "output_type": "display_data"
    }
   ],
   "source": [
    "# w1 = 0.86070351758794\n",
    "# w2 = 1-0.86070351758794\n",
    "from sklearn.preprocessing import StandardScaler\n",
    "from sklearn.decomposition import PCA\n",
    "model = RandomForestClassifier() #15:76 - Main sheet #class_weight\n",
    "data_ = data#data[(data[\"GPM\"]>-1) & (data[\"Goal Opportunity\"]==\"Yes\")]\n",
    "x = data_.iloc[:,15:-1]\n",
    "y = data_[\"classifier\"]\n",
    "y = np.array(y)[:,None]\n",
    "x = np.array(x)\n",
    "\n",
    "sc = StandardScaler()\n",
    "pc = PCA(n_components=55)\n",
    "x  = sc.fit_transform(x)\n",
    "#x = pc.fit_transform(x)\n",
    "#print(x.shape)\n",
    "x_train,x_test,y_train,y_test=train_test_split(x,y,test_size=0.3,shuffle=True,random_state=3)\n",
    "#x_train.shape\n",
    "#pc.explained_variance_ratio_\n",
    "model.fit(x_train, y_train)#\n",
    "\n",
    "y_pred_test = model.predict_proba(x_test)[:, 1]#0.094060344\n",
    "y_pred_class_test = [1 if prob > 0.5 else 0 for prob in y_pred_test]\n",
    "y_predicted = np.array(y_pred_class_test).reshape(len(y_pred_class_test), 1) #47863\n",
    "arr = np.append(y_predicted, np.array(y_test),1)\n",
    "df = pd.DataFrame(arr, columns = [\"Predicted\", \"Actual\"])\n",
    "#df.to_excel(\"Test_PRED.xlsx\")\n",
    "cm = confusion_matrix(y_test, y_predicted)\n",
    "accuracy = accuracy_score(y_test, y_predicted)\n",
    "print(\"Accuracy:\", accuracy)\n",
    "print('The f1 score for the model is:',f1_score(y_test, y_predicted))\n",
    "print('The precision score for the model model is:', precision_score(y_test, y_predicted))\n",
    "print('The recall score for the model model is:', recall_score(y_test, y_predicted))\n",
    "\n",
    "# print(f\"TRUE Positives : {tp} ; False Positives : {fp}\")\n",
    "cm_display = metrics.ConfusionMatrixDisplay(confusion_matrix = cm, display_labels = [0, 1])\n",
    "\n",
    "cm_display.plot()\n",
    "plt.show() "
   ]
  },
  {
   "cell_type": "code",
   "execution_count": null,
   "metadata": {},
   "outputs": [],
   "source": []
  },
  {
   "cell_type": "code",
   "execution_count": null,
   "metadata": {},
   "outputs": [],
   "source": []
  },
  {
   "cell_type": "code",
   "execution_count": 16,
   "metadata": {},
   "outputs": [
    {
     "name": "stderr",
     "output_type": "stream",
     "text": [
      "2023-08-21 15:48:46,948 [28892] WARNING  py.warnings:109: [JupyterRequire] c:\\Users\\ansht\\AppData\\Local\\Programs\\Python\\Python39\\lib\\site-packages\\sklearn\\utils\\validation.py:1184: DataConversionWarning: A column-vector y was passed when a 1d array was expected. Please change the shape of y to (n_samples, ), for example using ravel().\n",
      "  y = column_or_1d(y, warn=True)\n",
      "\n"
     ]
    },
    {
     "name": "stdout",
     "output_type": "stream",
     "text": [
      "Accuracy: 0.8404822096400142\n",
      "The f1 score for the model is: 0.3384455419807642\n",
      "The precision score for the model model is: 0.22437959558823528\n",
      "The recall score for the model model is: 0.6884032428621784\n"
     ]
    },
    {
     "data": {
      "image/png": "[encoded data removed]",
      "text/plain": [
       "<Figure size 432x288 with 2 Axes>"
      ]
     },
     "metadata": {
      "needs_background": "light"
     },
     "output_type": "display_data"
    },
    {
     "name": "stderr",
     "output_type": "stream",
     "text": [
      "2023-08-21 15:48:51,047 [28892] WARNING  py.warnings:109: [JupyterRequire] c:\\Users\\ansht\\AppData\\Local\\Programs\\Python\\Python39\\lib\\site-packages\\sklearn\\utils\\validation.py:1184: DataConversionWarning: A column-vector y was passed when a 1d array was expected. Please change the shape of y to (n_samples, ), for example using ravel().\n",
      "  y = column_or_1d(y, warn=True)\n",
      "\n"
     ]
    },
    {
     "name": "stdout",
     "output_type": "stream",
     "text": [
      "Accuracy: 0.8408164970854314\n",
      "The f1 score for the model is: 0.33983190364786414\n",
      "The precision score for the model model is: 0.22529871323529413\n",
      "The recall score for the model model is: 0.6912231230172717\n"
     ]
    },
    {
     "data": {
      "image/png": "[encoded data removed]",
      "text/plain": [
       "<Figure size 432x288 with 2 Axes>"
      ]
     },
     "metadata": {
      "needs_background": "light"
     },
     "output_type": "display_data"
    },
    {
     "name": "stderr",
     "output_type": "stream",
     "text": [
      "2023-08-21 15:48:54,818 [28892] WARNING  py.warnings:109: [JupyterRequire] c:\\Users\\ansht\\AppData\\Local\\Programs\\Python\\Python39\\lib\\site-packages\\sklearn\\utils\\validation.py:1184: DataConversionWarning: A column-vector y was passed when a 1d array was expected. Please change the shape of y to (n_samples, ), for example using ravel().\n",
      "  y = column_or_1d(y, warn=True)\n",
      "\n"
     ]
    },
    {
     "name": "stdout",
     "output_type": "stream",
     "text": [
      "Accuracy: 0.8410881056348327\n",
      "The f1 score for the model is: 0.3401006420267222\n",
      "The precision score for the model model is: 0.2255725630107032\n",
      "The recall score for the model model is: 0.6908706379978851\n"
     ]
    },
    {
     "data": {
      "image/png": "[encoded data removed]",
      "text/plain": [
       "<Figure size 432x288 with 2 Axes>"
      ]
     },
     "metadata": {
      "needs_background": "light"
     },
     "output_type": "display_data"
    },
    {
     "name": "stderr",
     "output_type": "stream",
     "text": [
      "2023-08-21 15:48:58,355 [28892] WARNING  py.warnings:109: [JupyterRequire] c:\\Users\\ansht\\AppData\\Local\\Programs\\Python\\Python39\\lib\\site-packages\\sklearn\\utils\\validation.py:1184: DataConversionWarning: A column-vector y was passed when a 1d array was expected. Please change the shape of y to (n_samples, ), for example using ravel().\n",
      "  y = column_or_1d(y, warn=True)\n",
      "\n"
     ]
    },
    {
     "name": "stdout",
     "output_type": "stream",
     "text": [
      "Accuracy: 0.8409209619121242\n",
      "The f1 score for the model is: 0.3394065590838105\n",
      "The precision score for the model model is: 0.2251122108412936\n",
      "The recall score for the model model is: 0.6894606979203384\n"
     ]
    },
    {
     "data": {
      "image/png": "[encoded data removed]",
      "text/plain": [
       "<Figure size 432x288 with 2 Axes>"
      ]
     },
     "metadata": {
      "needs_background": "light"
     },
     "output_type": "display_data"
    },
    {
     "name": "stderr",
     "output_type": "stream",
     "text": [
      "2023-08-21 15:49:02,352 [28892] WARNING  py.warnings:109: [JupyterRequire] c:\\Users\\ansht\\AppData\\Local\\Programs\\Python\\Python39\\lib\\site-packages\\sklearn\\utils\\validation.py:1184: DataConversionWarning: A column-vector y was passed when a 1d array was expected. Please change the shape of y to (n_samples, ), for example using ravel().\n",
      "  y = column_or_1d(y, warn=True)\n",
      "\n"
     ]
    },
    {
     "name": "stdout",
     "output_type": "stream",
     "text": [
      "Accuracy: 0.8404613166746756\n",
      "The f1 score for the model is: 0.3385308385308385\n",
      "The precision score for the model model is: 0.22441713563799243\n",
      "The recall score for the model model is: 0.688755727881565\n"
     ]
    },
    {
     "data": {
      "image/png": "[encoded data removed]",
      "text/plain": [
       "<Figure size 432x288 with 2 Axes>"
      ]
     },
     "metadata": {
      "needs_background": "light"
     },
     "output_type": "display_data"
    },
    {
     "name": "stderr",
     "output_type": "stream",
     "text": [
      "2023-08-21 15:49:06,512 [28892] WARNING  py.warnings:109: [JupyterRequire] c:\\Users\\ansht\\AppData\\Local\\Programs\\Python\\Python39\\lib\\site-packages\\sklearn\\utils\\validation.py:1184: DataConversionWarning: A column-vector y was passed when a 1d array was expected. Please change the shape of y to (n_samples, ), for example using ravel().\n",
      "  y = column_or_1d(y, warn=True)\n",
      "\n"
     ]
    },
    {
     "name": "stdout",
     "output_type": "stream",
     "text": [
      "Accuracy: 0.8414850719762655\n",
      "The f1 score for the model is: 0.3411202778983934\n",
      "The precision score for the model model is: 0.22631942843973266\n",
      "The recall score for the model model is: 0.6922805780754318\n"
     ]
    },
    {
     "data": {
      "image/png": "[encoded data removed]",
      "text/plain": [
       "<Figure size 432x288 with 2 Axes>"
      ]
     },
     "metadata": {
      "needs_background": "light"
     },
     "output_type": "display_data"
    },
    {
     "name": "stderr",
     "output_type": "stream",
     "text": [
      "2023-08-21 15:49:10,405 [28892] WARNING  py.warnings:109: [JupyterRequire] c:\\Users\\ansht\\AppData\\Local\\Programs\\Python\\Python39\\lib\\site-packages\\sklearn\\utils\\validation.py:1184: DataConversionWarning: A column-vector y was passed when a 1d array was expected. Please change the shape of y to (n_samples, ), for example using ravel().\n",
      "  y = column_or_1d(y, warn=True)\n",
      "\n"
     ]
    },
    {
     "name": "stdout",
     "output_type": "stream",
     "text": [
      "Accuracy: 0.8414223930802499\n",
      "The f1 score for the model is: 0.34080250130276185\n",
      "The precision score for the model model is: 0.22611501671084477\n",
      "The recall score for the model model is: 0.6915756080366584\n"
     ]
    },
    {
     "data": {
      "image/png": "[encoded data removed]",
      "text/plain": [
       "<Figure size 432x288 with 2 Axes>"
      ]
     },
     "metadata": {
      "needs_background": "light"
     },
     "output_type": "display_data"
    },
    {
     "name": "stderr",
     "output_type": "stream",
     "text": [
      "2023-08-21 15:49:14,370 [28892] WARNING  py.warnings:109: [JupyterRequire] c:\\Users\\ansht\\AppData\\Local\\Programs\\Python\\Python39\\lib\\site-packages\\sklearn\\utils\\validation.py:1184: DataConversionWarning: A column-vector y was passed when a 1d array was expected. Please change the shape of y to (n_samples, ), for example using ravel().\n",
      "  y = column_or_1d(y, warn=True)\n",
      "\n"
     ]
    },
    {
     "name": "stdout",
     "output_type": "stream",
     "text": [
      "Accuracy: 0.8413806071495727\n",
      "The f1 score for the model is: 0.34039965247610776\n",
      "The precision score for the model model is: 0.22587340020754065\n",
      "The recall score for the model model is: 0.6905181529784984\n"
     ]
    },
    {
     "data": {
      "image/png": "[encoded data removed]",
      "text/plain": [
       "<Figure size 432x288 with 2 Axes>"
      ]
     },
     "metadata": {
      "needs_background": "light"
     },
     "output_type": "display_data"
    },
    {
     "name": "stderr",
     "output_type": "stream",
     "text": [
      "2023-08-21 15:49:16,621 [28892] WARNING  py.warnings:109: [JupyterRequire] c:\\Users\\ansht\\AppData\\Local\\Programs\\Python\\Python39\\lib\\site-packages\\sklearn\\utils\\validation.py:1184: DataConversionWarning: A column-vector y was passed when a 1d array was expected. Please change the shape of y to (n_samples, ), for example using ravel().\n",
      "  y = column_or_1d(y, warn=True)\n",
      "\n"
     ]
    },
    {
     "name": "stdout",
     "output_type": "stream",
     "text": [
      "Accuracy: 0.8414641790109271\n",
      "The f1 score for the model is: 0.3405179906135929\n",
      "The precision score for the model model is: 0.2259776214096205\n",
      "The recall score for the model model is: 0.6905181529784984\n"
     ]
    },
    {
     "data": {
      "image/png": "[encoded data removed]",
      "text/plain": [
       "<Figure size 432x288 with 2 Axes>"
      ]
     },
     "metadata": {
      "needs_background": "light"
     },
     "output_type": "display_data"
    },
    {
     "name": "stderr",
     "output_type": "stream",
     "text": [
      "2023-08-21 15:49:19,020 [28892] WARNING  py.warnings:109: [JupyterRequire] c:\\Users\\ansht\\AppData\\Local\\Programs\\Python\\Python39\\lib\\site-packages\\sklearn\\utils\\validation.py:1184: DataConversionWarning: A column-vector y was passed when a 1d array was expected. Please change the shape of y to (n_samples, ), for example using ravel().\n",
      "  y = column_or_1d(y, warn=True)\n",
      "\n"
     ]
    },
    {
     "name": "stdout",
     "output_type": "stream",
     "text": [
      "Accuracy: 0.8418611453523599\n",
      "The f1 score for the model is: 0.3406220054011674\n",
      "The precision score for the model model is: 0.2262207822263365\n",
      "The recall score for the model model is: 0.6891082129009517\n"
     ]
    },
    {
     "data": {
      "image/png": "[encoded data removed]",
      "text/plain": [
       "<Figure size 432x288 with 2 Axes>"
      ]
     },
     "metadata": {
      "needs_background": "light"
     },
     "output_type": "display_data"
    },
    {
     "name": "stderr",
     "output_type": "stream",
     "text": [
      "2023-08-21 15:49:21,701 [28892] WARNING  py.warnings:109: [JupyterRequire] c:\\Users\\ansht\\AppData\\Local\\Programs\\Python\\Python39\\lib\\site-packages\\sklearn\\utils\\validation.py:1184: DataConversionWarning: A column-vector y was passed when a 1d array was expected. Please change the shape of y to (n_samples, ), for example using ravel().\n",
      "  y = column_or_1d(y, warn=True)\n",
      "\n"
     ]
    },
    {
     "name": "stdout",
     "output_type": "stream",
     "text": [
      "Accuracy: 0.8419238242483755\n",
      "The f1 score for the model is: 0.3408259278619969\n",
      "The precision score for the model model is: 0.2263626895035297\n",
      "The recall score for the model model is: 0.6894606979203384\n"
     ]
    },
    {
     "data": {
      "image/png": "[encoded data removed]",
      "text/plain": [
       "<Figure size 432x288 with 2 Axes>"
      ]
     },
     "metadata": {
      "needs_background": "light"
     },
     "output_type": "display_data"
    },
    {
     "name": "stderr",
     "output_type": "stream",
     "text": [
      "2023-08-21 15:49:23,959 [28892] WARNING  py.warnings:109: [JupyterRequire] c:\\Users\\ansht\\AppData\\Local\\Programs\\Python\\Python39\\lib\\site-packages\\sklearn\\utils\\validation.py:1184: DataConversionWarning: A column-vector y was passed when a 1d array was expected. Please change the shape of y to (n_samples, ), for example using ravel().\n",
      "  y = column_or_1d(y, warn=True)\n",
      "\n"
     ]
    },
    {
     "name": "stdout",
     "output_type": "stream",
     "text": [
      "Accuracy: 0.8419447172137141\n",
      "The f1 score for the model is: 0.3408556242920624\n",
      "The precision score for the model model is: 0.2263888888888889\n",
      "The recall score for the model model is: 0.6894606979203384\n"
     ]
    },
    {
     "data": {
      "image/png": "[encoded data removed]",
      "text/plain": [
       "<Figure size 432x288 with 2 Axes>"
      ]
     },
     "metadata": {
      "needs_background": "light"
     },
     "output_type": "display_data"
    },
    {
     "name": "stderr",
     "output_type": "stream",
     "text": [
      "2023-08-21 15:49:26,299 [28892] WARNING  py.warnings:109: [JupyterRequire] c:\\Users\\ansht\\AppData\\Local\\Programs\\Python\\Python39\\lib\\site-packages\\sklearn\\utils\\validation.py:1184: DataConversionWarning: A column-vector y was passed when a 1d array was expected. Please change the shape of y to (n_samples, ), for example using ravel().\n",
      "  y = column_or_1d(y, warn=True)\n",
      "\n"
     ]
    },
    {
     "name": "stdout",
     "output_type": "stream",
     "text": [
      "Accuracy: 0.8421118609364227\n",
      "The f1 score for the model is: 0.34155267055850835\n",
      "The precision score for the model model is: 0.22685185185185186\n",
      "The recall score for the model model is: 0.6908706379978851\n"
     ]
    },
    {
     "data": {
      "image/png": "[encoded data removed]",
      "text/plain": [
       "<Figure size 432x288 with 2 Axes>"
      ]
     },
     "metadata": {
      "needs_background": "light"
     },
     "output_type": "display_data"
    },
    {
     "name": "stderr",
     "output_type": "stream",
     "text": [
      "2023-08-21 15:49:28,585 [28892] WARNING  py.warnings:109: [JupyterRequire] c:\\Users\\ansht\\AppData\\Local\\Programs\\Python\\Python39\\lib\\site-packages\\sklearn\\utils\\validation.py:1184: DataConversionWarning: A column-vector y was passed when a 1d array was expected. Please change the shape of y to (n_samples, ), for example using ravel().\n",
      "  y = column_or_1d(y, warn=True)\n",
      "\n"
     ]
    },
    {
     "name": "stdout",
     "output_type": "stream",
     "text": [
      "Accuracy: 0.8417775734910056\n",
      "The f1 score for the model is: 0.34142099312983737\n",
      "The precision score for the model model is: 0.22662202724543984\n",
      "The recall score for the model model is: 0.6919280930560451\n"
     ]
    },
    {
     "data": {
      "image/png": "[encoded data removed]",
      "text/plain": [
       "<Figure size 432x288 with 2 Axes>"
      ]
     },
     "metadata": {
      "needs_background": "light"
     },
     "output_type": "display_data"
    },
    {
     "name": "stderr",
     "output_type": "stream",
     "text": [
      "2023-08-21 15:49:31,026 [28892] WARNING  py.warnings:109: [JupyterRequire] c:\\Users\\ansht\\AppData\\Local\\Programs\\Python\\Python39\\lib\\site-packages\\sklearn\\utils\\validation.py:1184: DataConversionWarning: A column-vector y was passed when a 1d array was expected. Please change the shape of y to (n_samples, ), for example using ravel().\n",
      "  y = column_or_1d(y, warn=True)\n",
      "\n"
     ]
    },
    {
     "name": "stdout",
     "output_type": "stream",
     "text": [
      "Accuracy: 0.8423207905898085\n",
      "The f1 score for the model is: 0.341735717400785\n",
      "The precision score for the model model is: 0.22705146036161336\n",
      "The recall score for the model model is: 0.6905181529784984\n"
     ]
    },
    {
     "data": {
      "image/png": "[encoded data removed]",
      "text/plain": [
       "<Figure size 432x288 with 2 Axes>"
      ]
     },
     "metadata": {
      "needs_background": "light"
     },
     "output_type": "display_data"
    },
    {
     "name": "stderr",
     "output_type": "stream",
     "text": [
      "2023-08-21 15:49:33,585 [28892] WARNING  py.warnings:109: [JupyterRequire] c:\\Users\\ansht\\AppData\\Local\\Programs\\Python\\Python39\\lib\\site-packages\\sklearn\\utils\\validation.py:1184: DataConversionWarning: A column-vector y was passed when a 1d array was expected. Please change the shape of y to (n_samples, ), for example using ravel().\n",
      "  y = column_or_1d(y, warn=True)\n",
      "\n"
     ]
    },
    {
     "name": "stdout",
     "output_type": "stream",
     "text": [
      "Accuracy: 0.8423416835551469\n",
      "The f1 score for the model is: 0.34176552686671313\n",
      "The precision score for the model model is: 0.22707777906572388\n",
      "The recall score for the model model is: 0.6905181529784984\n"
     ]
    },
    {
     "data": {
      "image/png": "[encoded data removed]",
      "text/plain": [
       "<Figure size 432x288 with 2 Axes>"
      ]
     },
     "metadata": {
      "needs_background": "light"
     },
     "output_type": "display_data"
    },
    {
     "name": "stderr",
     "output_type": "stream",
     "text": [
      "2023-08-21 15:49:36,109 [28892] WARNING  py.warnings:109: [JupyterRequire] c:\\Users\\ansht\\AppData\\Local\\Programs\\Python\\Python39\\lib\\site-packages\\sklearn\\utils\\validation.py:1184: DataConversionWarning: A column-vector y was passed when a 1d array was expected. Please change the shape of y to (n_samples, ), for example using ravel().\n",
      "  y = column_or_1d(y, warn=True)\n",
      "\n"
     ]
    },
    {
     "name": "stdout",
     "output_type": "stream",
     "text": [
      "Accuracy: 0.8422581116937927\n",
      "The f1 score for the model is: 0.34153148438862724\n",
      "The precision score for the model model is: 0.2269092594738672\n",
      "The recall score for the model model is: 0.6901656679591117\n"
     ]
    },
    {
     "data": {
      "image/png": "[encoded data removed]",
      "text/plain": [
       "<Figure size 432x288 with 2 Axes>"
      ]
     },
     "metadata": {
      "needs_background": "light"
     },
     "output_type": "display_data"
    },
    {
     "name": "stderr",
     "output_type": "stream",
     "text": [
      "2023-08-21 15:49:38,618 [28892] WARNING  py.warnings:109: [JupyterRequire] c:\\Users\\ansht\\AppData\\Local\\Programs\\Python\\Python39\\lib\\site-packages\\sklearn\\utils\\validation.py:1184: DataConversionWarning: A column-vector y was passed when a 1d array was expected. Please change the shape of y to (n_samples, ), for example using ravel().\n",
      "  y = column_or_1d(y, warn=True)\n",
      "\n"
     ]
    },
    {
     "name": "stdout",
     "output_type": "stream",
     "text": [
      "Accuracy: 0.8423625765204855\n",
      "The f1 score for the model is: 0.3419101613606629\n",
      "The precision score for the model model is: 0.22716736207695873\n",
      "The recall score for the model model is: 0.6908706379978851\n"
     ]
    },
    {
     "data": {
      "image/png": "[encoded data removed]",
      "text/plain": [
       "<Figure size 432x288 with 2 Axes>"
      ]
     },
     "metadata": {
      "needs_background": "light"
     },
     "output_type": "display_data"
    }
   ],
   "source": [
    "# w1 = 0.86070351758794\n",
    "# w2 = 1-0.86070351758794\n",
    "from sklearn.preprocessing import StandardScaler\n",
    "from sklearn.decomposition import PCA\n",
    "\n",
    "for n in range(42,60):\n",
    "    model = LogisticRegression() #15:76 - Main sheet #class_weight\n",
    "    data_ = data#data[(data[\"GPM\"]>-1) & (data[\"Goal Opportunity\"]==\"Yes\")]\n",
    "    x = data_.iloc[:,15:-1]\n",
    "    y = data_[\"classifier\"]\n",
    "    y = np.array(y)[:,None]\n",
    "    x = np.array(x)\n",
    "\n",
    "\n",
    "    sc = StandardScaler()\n",
    "    pc = PCA(n_components=int(n))\n",
    "    x  = sc.fit_transform(x)\n",
    "    x = pc.fit_transform(x)\n",
    "\n",
    "    x_train,x_test,y_train,y_test=train_test_split(x,y,test_size=0.3,shuffle=True, random_state=0)\n",
    "\n",
    "    #View the shapes of splitted data.\n",
    "\n",
    "    #shapes of splitted data\n",
    "    # print(\"X_train:\",x_train.shape)\n",
    "    # print(\"X_test:\",x_test.shape)\n",
    "    # print(\"Y_train:\",y_train.shape)\n",
    "    # print(\"Y_test:\",y_test.shape)\n",
    "\n",
    "    model.fit(x_train, y_train)\n",
    "\n",
    "    #Accuracy=r2_score(y_test,y_pred)*100\n",
    "    #print(\"Accuracy of the model is %.2f\" %Accuracy)\n",
    "    #0.094060344\n",
    "    y_pred_test = model.predict_proba(x_test)[:, 1]\n",
    "    y_pred_class_test = [1 if prob > 0.094060344 else 0 for prob in y_pred_test]\n",
    "    y_predicted = np.array(y_pred_class_test).reshape(47863, 1)\n",
    "    arr = np.append(y_predicted, np.array(y_test),1)\n",
    "    df = pd.DataFrame(arr, columns = [\"Predicted\", \"Actual\"])\n",
    "    #df.to_excel(\"Test_PRED.xlsx\")\n",
    "    cm = confusion_matrix(y_test, y_predicted)\n",
    "    accuracy = accuracy_score(y_test, y_predicted)\n",
    "    print(\"Accuracy:\", accuracy)\n",
    "    print('The f1 score for the model is:',f1_score(y_test, y_predicted))\n",
    "    print('The precision score for the model model is:', precision_score(y_test, y_predicted))\n",
    "    print('The recall score for the model model is:', recall_score(y_test, y_predicted))\n",
    "\n",
    "    # print(f\"TRUE Positives : {tp} ; False Positives : {fp}\")\n",
    "    cm_display = metrics.ConfusionMatrixDisplay(confusion_matrix = cm, display_labels = [0, 1])\n",
    "\n",
    "    cm_display.plot()\n",
    "    plt.show() "
   ]
  }
 ],
 "metadata": {
  "kernelspec": {
   "display_name": "Python 3",
   "language": "python",
   "name": "python3"
  },
  "language_info": {
   "codemirror_mode": {
    "name": "ipython",
    "version": 3
   },
   "file_extension": ".py",
   "mimetype": "text/x-python",
   "name": "python",
   "nbconvert_exporter": "python",
   "pygments_lexer": "ipython3",
   "version": "3.9.7"
  },
  "orig_nbformat": 4
 },
 "nbformat": 4,
 "nbformat_minor": 2
}
